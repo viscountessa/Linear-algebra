{
 "cells": [
  {
   "cell_type": "code",
   "execution_count": 9,
   "metadata": {},
   "outputs": [],
   "source": [
    "import numpy as np"
   ]
  },
  {
   "cell_type": "markdown",
   "metadata": {},
   "source": [
    "# Урок 5"
   ]
  },
  {
   "cell_type": "markdown",
   "metadata": {},
   "source": [
    "# Линейные преобразования"
   ]
  },
  {
   "cell_type": "markdown",
   "metadata": {},
   "source": [
    "__1.__ Найти собственные векторы и собственные значения для линейного оператора, заданного матрицей\n",
    "\n",
    "$$A=\\begin{pmatrix}\n",
    "-1 & -6\\\\ \n",
    "2 & 6\n",
    "\\end{pmatrix}.$$"
   ]
  },
  {
   "cell_type": "markdown",
   "metadata": {},
   "source": [
    "$$\\begin{vmatrix}\n",
    "-1-\\lambda & -6\\\\ \n",
    "2 & 6-\\lambda\n",
    "\\end{vmatrix} = 0$$\n",
    "$$(-1-\\lambda)(6-\\lambda) - (-6)\\cdot 2 = 0$$\n",
    "$$\\lambda^2 - 5\\lambda + 6 = 0$$\n",
    "$$\\begin{cases}\n",
    "     \\lambda_1 = 2 \\\\\n",
    "     \\lambda_2 = 3\n",
    "\\end{cases}$$\n",
    "$$\\begin{pmatrix}\n",
    "-1 & -6\\\\ \n",
    "2 & 6\n",
    "\\end{pmatrix}\n",
    "\\begin{pmatrix}\n",
    "x_{1}\\\\ \n",
    "x_{2}\n",
    "\\end{pmatrix}=\n",
    "\\lambda\n",
    "\\begin{pmatrix}\n",
    "x_{1}\\\\ \n",
    "x_{2}\n",
    "\\end{pmatrix}\n",
    "$$\n",
    "$$\\begin{cases}\n",
    "    -x_1 -6x_2 = 2x_1 \\\\\n",
    "    2x_1 + 6x_2 = 2x_2\n",
    "\\end{cases}$$\n",
    "$$x_1 = -2x_2$$\n",
    "$$x = \\begin{pmatrix}\n",
    "2\\\\ \n",
    "-1\n",
    "\\end{pmatrix}$$\n",
    "$$\\begin{cases}\n",
    "    -x_1 -6x_2 = 3x_1 \\\\\n",
    "    2x_1 + 6x_2 = 3x_2\n",
    "\\end{cases}$$\n",
    "$$x_1 = -\\frac{3}{2}x_2$$\n",
    "$$x = \\begin{pmatrix}\n",
    "3\\\\ \n",
    "-2\n",
    "\\end{pmatrix}$$"
   ]
  },
  {
   "cell_type": "code",
   "execution_count": 10,
   "metadata": {},
   "outputs": [
    {
     "name": "stdout",
     "output_type": "stream",
     "text": [
      "Матрица A:\n",
      "[[-1 -6]\n",
      " [ 2  6]]\n",
      "Собственные значения:\n",
      "[2. 3.]\n",
      "Собственные векторы:\n",
      "[[-0.89442719  0.83205029]\n",
      " [ 0.4472136  -0.5547002 ]]\n"
     ]
    }
   ],
   "source": [
    "a = np.array([[-1, -6], [2, 6]])\n",
    "w, v = np.linalg.eig(a)\n",
    "\n",
    "print(f'Матрица A:\\n{a}')\n",
    "print(f'Собственные значения:\\n{w}')\n",
    "print(f'Собственные векторы:\\n{v}')"
   ]
  },
  {
   "cell_type": "markdown",
   "metadata": {},
   "source": [
    "__2.__ Дан оператор поворота на 180 градусов, задаваемый матрицей \n",
    "\n",
    "$$A=\\begin{pmatrix}\n",
    "-1 & 0\\\\ \n",
    "0 & -1\n",
    "\\end{pmatrix}.$$\n",
    "\n",
    "Показать, что __любой__ вектор является для него собственным."
   ]
  },
  {
   "cell_type": "markdown",
   "metadata": {},
   "source": [
    "$$\\begin{vmatrix}\n",
    "-1-\\lambda & -0\\\\ \n",
    "0 & -1-\\lambda\n",
    "\\end{vmatrix} = 0$$\n",
    "$$(-1-\\lambda)(-1-\\lambda) - 0 \\cdot 0 = 0$$\n",
    "$$(-1 - \\lambda)^2 = 0$$\n",
    "$$\\begin{cases}\n",
    "     \\lambda_1 = -1 \\\\\n",
    "     \\lambda_2 = -1\n",
    "\\end{cases}$$\n",
    "$$\\begin{pmatrix}\n",
    "-1 & 0\\\\ \n",
    "0 & -1\n",
    "\\end{pmatrix}\n",
    "\\begin{pmatrix}\n",
    "x_{1}\\\\ \n",
    "x_{2}\n",
    "\\end{pmatrix}=\n",
    "\\lambda\n",
    "\\begin{pmatrix}\n",
    "x_{1}\\\\ \n",
    "x_{2}\n",
    "\\end{pmatrix}\n",
    "$$\n",
    "$$\\begin{cases}\n",
    "    -x_1 + 0 \\cdot x_2 = -x_1 \\\\\n",
    "    0 \\cdot x_1 + (-x_2) = -x_2\n",
    "\\end{cases}$$\n",
    "$$\\begin{cases}\n",
    "    x_1 - x_1 = 0 \\\\\n",
    "    x_2 - x_2 = 0 \n",
    "\\end{cases}$$\n",
    "$$\\begin{cases}\n",
    "    0 = 0 \\\\\n",
    "    0 = 0 \\\\\n",
    "\\end{cases}$$\n"
   ]
  },
  {
   "cell_type": "code",
   "execution_count": 11,
   "metadata": {},
   "outputs": [
    {
     "name": "stdout",
     "output_type": "stream",
     "text": [
      "Матрица A:\n",
      "[[-1  0]\n",
      " [ 0 -1]]\n",
      "Собственные значения:\n",
      "[-1. -1.]\n",
      "Собственные векторы:\n",
      "[[1. 0.]\n",
      " [0. 1.]]\n"
     ]
    }
   ],
   "source": [
    "a = np.array([[-1, 0], [0, -1]])\n",
    "w, v = np.linalg.eig(a)\n",
    "\n",
    "print(f'Матрица A:\\n{a}')\n",
    "print(f'Собственные значения:\\n{w}')\n",
    "print(f'Собственные векторы:\\n{v}')"
   ]
  },
  {
   "cell_type": "markdown",
   "metadata": {},
   "source": [
    "__3.__ Пусть линейный оператор задан матрицей\n",
    "\n",
    "$$A=\\begin{pmatrix}\n",
    "1 & 1\\\\ \n",
    "-1 & 3\n",
    "\\end{pmatrix}.$$\n",
    "\n",
    "Установить, является ли вектор $x=(1,1)$ собственным вектором этого линейного оператора.\n"
   ]
  },
  {
   "cell_type": "markdown",
   "metadata": {},
   "source": [
    "$$\\begin{pmatrix}\n",
    "1 & 1\\\\ \n",
    "-1 & 3\n",
    "\\end{pmatrix}\n",
    "\\begin{pmatrix}\n",
    "1\\\\ \n",
    "1\n",
    "\\end{pmatrix}=\n",
    "\\lambda\n",
    "\\begin{pmatrix}\n",
    "1\\\\ \n",
    "1\n",
    "\\end{pmatrix}$$\n",
    "$$\\begin{cases}\n",
    "    1 + 1 = \\lambda \\\\\n",
    "    -1 + 3 = \\lambda\n",
    "\\end{cases}$$\n",
    "$$\\begin{cases}\n",
    "    \\lambda = 2 \\\\\n",
    "    \\lambda = 2 \n",
    "\\end{cases}\\Rightarrow\n",
    "\\lambda=2$$\n"
   ]
  },
  {
   "cell_type": "markdown",
   "metadata": {},
   "source": [
    "Вектор $x=(1,1)$ является собственным вектором линейного оператора, заданного матрицей $A$, и его собственное значение составляет $\\lambda=2.$"
   ]
  },
  {
   "cell_type": "markdown",
   "metadata": {},
   "source": [
    "**4.** Пусть линейный оператор задан матрицей\n",
    "\n",
    "$$A=\\begin{pmatrix} 0 & 3 & 0\\\\ 3 & 0 & 0\\\\ 0 & 0 & 3 \\end{pmatrix}.$$\n",
    "\n",
    "Установить, является ли вектор $x=(3, -3, -4)$ собственным вектором этого линейного оператора."
   ]
  },
  {
   "cell_type": "markdown",
   "metadata": {},
   "source": [
    "$$\\begin{pmatrix}\n",
    "0 & 3 & 0\\\\ \n",
    "3 & 0 & 0\\\\\n",
    "0 & 0 & 3\n",
    "\\end{pmatrix}\n",
    "\\begin{pmatrix} \n",
    "3 \\\\\n",
    "-3 \\\\\n",
    "-4\n",
    "\\end{pmatrix} =\n",
    "\\lambda\n",
    "\\begin{pmatrix} \n",
    "3 \\\\\n",
    "-3 \\\\\n",
    "-4\n",
    "\\end{pmatrix}$$\n",
    "$$\\begin{cases}\n",
    "    0 \\cdot 3 + 3 \\cdot (-3) + 0\\cdot (-4) = 3 \\lambda \\\\\n",
    "    3 \\cdot 3 + 0 \\cdot (-3) + 0 \\cdot (-4) = -3 \\lambda \\\\\n",
    "    0 \\cdot (3) + 0 \\cdot (-3) + 3 \\cdot (-4) = -4 \\lambda\n",
    "\\end{cases}$$\n",
    "$$\\begin{cases}\n",
    "    -9 = 3 \\lambda \\\\\n",
    "    9 = -3 \\lambda \\\\\n",
    "    -12 = -4 \\lambda\n",
    "\\end{cases}$$\n",
    "$$\\begin{cases}\n",
    "    \\lambda = -3 \\\\\n",
    "    \\lambda = -3 \\\\\n",
    "    \\lambda = 3 \n",
    "\\end{cases}$$"
   ]
  },
  {
   "cell_type": "markdown",
   "metadata": {},
   "source": [
    "Вектор $x=(3, -3, -4)$ не является собственным вектором линейного оператора, заданного матрицей $A$, т.к. полученная система не несет смысла."
   ]
  }
 ],
 "metadata": {
  "kernelspec": {
   "display_name": "Python 3",
   "language": "python",
   "name": "python3"
  },
  "language_info": {
   "codemirror_mode": {
    "name": "ipython",
    "version": 3
   },
   "file_extension": ".py",
   "mimetype": "text/x-python",
   "name": "python",
   "nbconvert_exporter": "python",
   "pygments_lexer": "ipython3",
   "version": "3.8.3"
  }
 },
 "nbformat": 4,
 "nbformat_minor": 4
}
